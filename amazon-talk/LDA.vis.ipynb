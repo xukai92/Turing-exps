{
  "cells": [
    {
      "cell_type": "code",
      "source": [
        "import json\n",
        "import numpy as np\n",
        "\n",
        "def load_result(filename):\n",
        "    with open(filename, 'r') as j:\n",
        "        data_input = json.load(j)\n",
        "    data = {'topic_term_dists': np.array(data_input[u'topic_term_dists']), \n",
        "            'doc_topic_dists': np.array(data_input[u'doc_topic_dist']),\n",
        "            'doc_lengths': data_input[u'doc_lengths'],\n",
        "            'vocab': data_input[u'vocab'],\n",
        "            'term_frequency': np.array(data_input[u'term_frequency'])}\n",
        "    return data\n",
        "\n",
        "lda_result = load_result('/home/kai/projects/Turing-exps/amazon-talk/LDA.result.json')\n",
        "\n",
        "print('Topic-Term shape: %s' % str(np.array(lda_result['topic_term_dists']).shape))\n",
        "print('Doc-Topic shape: %s' % str(np.array(lda_result['doc_topic_dists']).shape))"
      ],
      "outputs": [
        {
          "output_type": "stream",
          "name": "stdout",
          "text": [
            "Topic-Term shape: (2, 5)\n",
            "Doc-Topic shape: (25, 2)\n"
          ]
        }
      ],
      "execution_count": 1,
      "metadata": {
        "collapsed": false,
        "outputHidden": false,
        "inputHidden": false
      }
    },
    {
      "cell_type": "code",
      "source": [
        "import pyLDAvis\n",
        "lda_vis_data = pyLDAvis.prepare(**lda_result)"
      ],
      "outputs": [
        {
          "output_type": "stream",
          "name": "stderr",
          "text": [
            "/usr/local/lib/python2.7/dist-packages/pyLDAvis/_prepare.py:387: DeprecationWarning: \n",
            ".ix is deprecated. Please use\n",
            ".loc for label based indexing or\n",
            ".iloc for positional indexing\n",
            "\n",
            "See the documentation here:\n",
            "http://pandas.pydata.org/pandas-docs/stable/indexing.html#deprecate_ix\n",
            "  topic_term_dists = topic_term_dists.ix[topic_order]\n",
            "/usr/lib/python2.7/json/encoder.py:207: DeprecationWarning: Interpreting naive datetime as local 2017-05-08 17:06:30.058972. Please add timezone info to timestamps.\n",
            "  chunks = self.iterencode(o, _one_shot=True)\n"
          ]
        }
      ],
      "execution_count": 2,
      "metadata": {
        "collapsed": false,
        "outputHidden": true,
        "inputHidden": false
      }
    },
    {
      "cell_type": "code",
      "source": [
        "pyLDAvis.display(lda_vis_data)"
      ],
      "outputs": [
        {
          "output_type": "execute_result",
          "execution_count": 3,
          "data": {
            "text/plain": [
              "<IPython.core.display.HTML object>"
            ],
            "text/html": [
              "\n",
              "<link rel=\"stylesheet\" type=\"text/css\" href=\"https://cdn.rawgit.com/bmabey/pyLDAvis/files/ldavis.v1.0.0.css\">\n",
              "\n\n",
              "<div id=\"ldavis_el19031406866919714084703792779\"></div>\n",
              "<script type=\"text/javascript\">\n",
              "\n",
              "var ldavis_el19031406866919714084703792779_data = {\"plot.opts\": {\"xlab\": \"PC1\", \"ylab\": \"PC2\"}, \"topic.order\": [2, 1], \"token.table\": {\"Topic\": [1, 2, 1, 2, 1, 1, 2, 2], \"Freq\": [0.6214764756522064, 0.3773250030745539, 0.7074674667860182, 0.27793364766593576, 1.0006026046640637, 0.15968331480663261, 0.8463215684751528, 1.0047689323266247], \"Term\": [1, 1, 2, 2, 3, 4, 4, 5]}, \"mdsDat\": {\"y\": [0.0, 0.0], \"cluster\": [1, 1], \"Freq\": [51.99909427792061, 48.00090572207939], \"topics\": [1, 2], \"x\": [0.19301077345786327, -0.19301077345786327]}, \"R\": 5, \"lambda.step\": 0.01, \"tinfo\": {\"Category\": [\"Default\", \"Default\", \"Default\", \"Default\", \"Default\", \"Topic1\", \"Topic1\", \"Topic1\", \"Topic1\", \"Topic1\", \"Topic2\", \"Topic2\", \"Topic2\", \"Topic2\", \"Topic2\"], \"Term\": [3, 5, 4, 2, 1, 3, 2, 1, 4, 5, 5, 4, 1, 2, 3], \"loglift\": [5.0, 4.0, 3.0, 2.0, 1.0, 0.6539, 0.3149, 0.1938, -1.219, -6.9354, 0.7334, 0.5671, -0.2635, -0.5124, -11.189], \"Freq\": [69.0, 44.0, 62.0, 39.0, 45.0, 69.95737882691485, 28.19760312782166, 28.436487223039034, 9.62350509453693, 0.02265273583950329, 44.76376387419523, 53.000445392146226, 16.617510952218517, 11.380188522729137, 0.00046425055883623974], \"Total\": [69.0, 44.0, 62.0, 39.0, 45.0, 69.95784307747368, 39.5777916505508, 45.05399817525755, 62.62395048668316, 44.78641661003473, 44.78641661003473, 62.62395048668316, 45.05399817525755, 39.5777916505508, 69.95784307747368], \"logprob\": [5.0, 4.0, 3.0, 2.0, 1.0, -0.6665, -1.5752, -1.5667, -2.6502, -8.7019, -1.033, -0.8641, -2.0239, -2.4025, -12.5095]}};\n",
              "\n",
              "function LDAvis_load_lib(url, callback){\n",
              "  var s = document.createElement('script');\n",
              "  s.src = url;\n",
              "  s.async = true;\n",
              "  s.onreadystatechange = s.onload = callback;\n",
              "  s.onerror = function(){console.warn(\"failed to load library \" + url);};\n",
              "  document.getElementsByTagName(\"head\")[0].appendChild(s);\n",
              "}\n",
              "\n",
              "if(typeof(LDAvis) !== \"undefined\"){\n",
              "   // already loaded: just create the visualization\n",
              "   !function(LDAvis){\n",
              "       new LDAvis(\"#\" + \"ldavis_el19031406866919714084703792779\", ldavis_el19031406866919714084703792779_data);\n",
              "   }(LDAvis);\n",
              "}else if(typeof define === \"function\" && define.amd){\n",
              "   // require.js is available: use it to load d3/LDAvis\n",
              "   require.config({paths: {d3: \"https://cdnjs.cloudflare.com/ajax/libs/d3/3.5.5/d3.min\"}});\n",
              "   require([\"d3\"], function(d3){\n",
              "      window.d3 = d3;\n",
              "      LDAvis_load_lib(\"https://cdn.rawgit.com/bmabey/pyLDAvis/files/ldavis.v1.0.0.js\", function(){\n",
              "        new LDAvis(\"#\" + \"ldavis_el19031406866919714084703792779\", ldavis_el19031406866919714084703792779_data);\n",
              "      });\n",
              "    });\n",
              "}else{\n",
              "    // require.js not available: dynamically load d3 & LDAvis\n",
              "    LDAvis_load_lib(\"https://cdnjs.cloudflare.com/ajax/libs/d3/3.5.5/d3.min.js\", function(){\n",
              "         LDAvis_load_lib(\"https://cdn.rawgit.com/bmabey/pyLDAvis/files/ldavis.v1.0.0.js\", function(){\n",
              "                 new LDAvis(\"#\" + \"ldavis_el19031406866919714084703792779\", ldavis_el19031406866919714084703792779_data);\n",
              "            })\n",
              "         });\n",
              "}\n",
              "</script>"
            ]
          },
          "metadata": {}
        },
        {
          "output_type": "stream",
          "name": "stderr",
          "text": [
            "/usr/lib/python2.7/json/encoder.py:207: DeprecationWarning: Interpreting naive datetime as local 2017-05-08 17:06:31.471352. Please add timezone info to timestamps.\n",
            "  chunks = self.iterencode(o, _one_shot=True)\n"
          ]
        }
      ],
      "execution_count": 3,
      "metadata": {
        "collapsed": false,
        "outputHidden": false,
        "inputHidden": false
      }
    },
    {
      "cell_type": "code",
      "source": [],
      "outputs": [],
      "execution_count": null,
      "metadata": {
        "collapsed": false,
        "outputHidden": false,
        "inputHidden": false
      }
    }
  ],
  "metadata": {
    "kernelspec": {
      "name": "python2",
      "language": "python",
      "display_name": "Python 2"
    },
    "kernel_info": {
      "name": "python2"
    },
    "language_info": {
      "mimetype": "text/x-python",
      "nbconvert_exporter": "python",
      "name": "python",
      "pygments_lexer": "ipython2",
      "version": "2.7.12",
      "file_extension": ".py",
      "codemirror_mode": {
        "version": 2,
        "name": "ipython"
      }
    }
  },
  "nbformat": 4,
  "nbformat_minor": 4
}