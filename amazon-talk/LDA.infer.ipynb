{
  "cells": [
    {
      "cell_type": "code",
      "source": [
        "using Distributions\n",
        "using Turing\n",
        "using JSON"
      ],
      "outputs": [],
      "execution_count": 1,
      "metadata": {
        "collapsed": false,
        "outputHidden": false,
        "inputHidden": false
      }
    },
    {
      "cell_type": "code",
      "source": [
        "cd(\"/home/kai/projects/Turing-exps/amazon-talk\")\n",
        "include(\"LDA.data.jl\");"
      ],
      "outputs": [],
      "execution_count": 2,
      "metadata": {
        "collapsed": false,
        "outputHidden": false,
        "inputHidden": false
      }
    },
    {
      "cell_type": "code",
      "source": [
        "@model ldamodel(K, V, M, N, w, doc, beta, alpha) = begin\n",
        "  theta = Vector{Vector{Real}}(M)\n",
        "  for m = 1:M\n",
        "    theta[m] ~ Dirichlet(alpha)\n",
        "  end\n",
        "\n",
        "  phi = Vector{Vector{Real}}(K)\n",
        "  for k = 1:K\n",
        "    phi[k] ~ Dirichlet(beta)\n",
        "  end\n",
        "\n",
        "  for n = 1:N\n",
        "    # Marginalize z         \n",
        "    phi_dot_theta = [dot(map(p -> p[i], phi), theta[doc[n]]) for i = 1:V]\n",
        "    w[n] ~ Categorical(phi_dot_theta)\n",
        "  end\n",
        "\nend"
      ],
      "outputs": [
        {
          "output_type": "execute_result",
          "execution_count": 3,
          "data": {
            "text/plain": [
              "ldamodel (generic function with 9 methods)"
            ]
          },
          "metadata": {}
        }
      ],
      "execution_count": 3,
      "metadata": {
        "collapsed": false,
        "outputHidden": false,
        "inputHidden": false
      }
    },
    {
      "cell_type": "code",
      "source": [
        "samples = sample(ldamodel(data=ldadata), HMC(250, 0.1, 3))"
      ],
      "outputs": [
        {
          "output_type": "stream",
          "name": "stdout",
          "text": [
            "\r",
            "[Turing]:  Assume - `theta` is a parameter\n",
            "  in @~(::Any, ::Any) at compiler.jl:49\n",
            "\r",
            "[Turing]:  Assume - `phi` is a parameter\n",
            "  in @~(::Any, ::Any) at compiler.jl:49\n",
            "\r",
            "[Turing]:  Observe - `w` is an observation\n",
            "  in @~(::Any, ::Any) at compiler.jl:28\n",
            "[HMC] Done with accept rate = 0.0.\n"
          ]
        },
        {
          "output_type": "stream",
          "name": "stderr",
          "text": [
            "\r",
            "[HMC] Sampling...  0%  ETA: 0:10:45\u001b[1m\u001b[34m\n",
            "  ϵ:  0.1\u001b[0m\u001b[1m\u001b[34m\n",
            "  α:  1.0\u001b[0m\u001b[1G\u001b[K\u001b[A\u001b[1G\u001b[K\u001b[A\r",
            "[HMC] Sampling...  3%  ETA: 0:01:54\u001b[1m\u001b[34m\n",
            "  ϵ:  0.1\u001b[0m\u001b[1m\u001b[34m\n",
            "  α:  1.0\u001b[0m\u001b[1G\u001b[K\u001b[A\u001b[1G\u001b[K\u001b[A\r",
            "[HMC] Sampling...  6%  ETA: 0:01:21\u001b[1m\u001b[34m\n",
            "  ϵ:  0.1\u001b[0m\u001b[1m\u001b[34m\n",
            "  α:  1.0\u001b[0m\u001b[1G\u001b[K\u001b[A\u001b[1G\u001b[K\u001b[A\r",
            "[HMC] Sampling...  8%  ETA: 0:01:05\u001b[1m\u001b[34m\n",
            "  ϵ:  0.1\u001b[0m\u001b[1m\u001b[34m\n",
            "  α:  0.8910633600461504\u001b[0m\u001b[1G\u001b[K\u001b[A\u001b[1G\u001b[K\u001b[A\r",
            "[HMC] Sampling... 11%  ETA: 0:00:56\u001b[1m\u001b[34m\n",
            "  ϵ:  0.1\u001b[0m\u001b[1m\u001b[34m\n",
            "  α:  1.0\u001b[0m\u001b[1G\u001b[K\u001b[A\u001b[1G\u001b[K\u001b[A\r",
            "[HMC] Sampling... 14%  ETA: 0:00:51\u001b[1m\u001b[34m\n",
            "  ϵ:  0.1\u001b[0m\u001b[1m\u001b[34m\n",
            "  α:  0.9801858140614681\u001b[0m\u001b[1G\u001b[K\u001b[A\u001b[1G\u001b[K\u001b[A\r",
            "[HMC] Sampling... 16%  ETA: 0:00:47\u001b[1m\u001b[34m\n",
            "  ϵ:  0.1\u001b[0m\u001b[1m\u001b[34m\n",
            "  α:  0.7713359831105696\u001b[0m\u001b[1G\u001b[K\u001b[A\u001b[1G\u001b[K\u001b[A\r",
            "[HMC] Sampling... 19%  ETA: 0:00:45\u001b[1m\u001b[34m\n",
            "  ϵ:  0.1\u001b[0m\u001b[1m\u001b[34m\n",
            "  α:  0.9493506890446585\u001b[0m\u001b[1G\u001b[K\u001b[A\u001b[1G\u001b[K\u001b[A\r",
            "[HMC] Sampling... 22%  ETA: 0:00:42\u001b[1m\u001b[34m\n",
            "  ϵ:  0.1\u001b[0m\u001b[1m\u001b[34m\n",
            "  α:  1.0\u001b[0m\u001b[1G\u001b[K\u001b[A\u001b[1G\u001b[K\u001b[A\r",
            "[HMC] Sampling... 24%  ETA: 0:00:39\u001b[1m\u001b[34m\n",
            "  ϵ:  0.1\u001b[0m\u001b[1m\u001b[34m\n",
            "  α:  1.0\u001b[0m\u001b[1G\u001b[K\u001b[A\u001b[1G\u001b[K\u001b[A\r",
            "[HMC] Sampling... 27%  ETA: 0:00:37\u001b[1m\u001b[34m\n",
            "  ϵ:  0.1\u001b[0m\u001b[1m\u001b[34m\n",
            "  α:  0.9788026010806625\u001b[0m\u001b[1G\u001b[K\u001b[A\u001b[1G\u001b[K\u001b[A\r",
            "[HMC] Sampling... 30%  ETA: 0:00:35\u001b[1m\u001b[34m\n",
            "  ϵ:  0.1\u001b[0m\u001b[1m\u001b[34m\n",
            "  α:  0.9439842811700695\u001b[0m\u001b[1G\u001b[K\u001b[A\u001b[1G\u001b[K\u001b[A\r",
            "[HMC] Sampling... 32%  ETA: 0:00:33\u001b[1m\u001b[34m\n",
            "  ϵ:  0.1\u001b[0m\u001b[1m\u001b[34m\n",
            "  α:  1.0\u001b[0m\u001b[1G\u001b[K\u001b[A\u001b[1G\u001b[K\u001b[A\r",
            "[HMC] Sampling... 35%  ETA: 0:00:31\u001b[1m\u001b[34m\n",
            "  ϵ:  0.1\u001b[0m\u001b[1m\u001b[34m\n",
            "  α:  0.9582984117244031\u001b[0m\u001b[1G\u001b[K\u001b[A\u001b[1G\u001b[K\u001b[A\r",
            "[HMC] Sampling... 38%  ETA: 0:00:29\u001b[1m\u001b[34m\n",
            "  ϵ:  0.1\u001b[0m\u001b[1m\u001b[34m\n",
            "  α:  1.0\u001b[0m\u001b[1G\u001b[K\u001b[A\u001b[1G\u001b[K\u001b[A\r",
            "[HMC] Sampling... 41%  ETA: 0:00:28\u001b[1m\u001b[34m\n",
            "  ϵ:  0.1\u001b[0m\u001b[1m\u001b[34m\n",
            "  α:  0.9708723587018236\u001b[0m\u001b[1G\u001b[K\u001b[A\u001b[1G\u001b[K\u001b[A\r",
            "[HMC] Sampling... 44%  ETA: 0:00:26\u001b[1m\u001b[34m\n",
            "  ϵ:  0.1\u001b[0m\u001b[1m\u001b[34m\n",
            "  α:  1.0\u001b[0m\u001b[1G\u001b[K\u001b[A\u001b[1G\u001b[K\u001b[A\r",
            "[HMC] Sampling... 46%  ETA: 0:00:24\u001b[1m\u001b[34m\n",
            "  ϵ:  0.1\u001b[0m\u001b[1m\u001b[34m\n",
            "  α:  0.941870704798496\u001b[0m\u001b[1G\u001b[K\u001b[A\u001b[1G\u001b[K\u001b[A\r",
            "[HMC] Sampling... 49%  ETA: 0:00:23\u001b[1m\u001b[34m\n",
            "  ϵ:  0.1\u001b[0m\u001b[1m\u001b[34m\n",
            "  α:  0.988847948889238\u001b[0m\u001b[1G\u001b[K\u001b[A\u001b[1G\u001b[K\u001b[A\r",
            "[HMC] Sampling... 52%  ETA: 0:00:22\u001b[1m\u001b[34m\n",
            "  ϵ:  0.1\u001b[0m\u001b[1m\u001b[34m\n",
            "  α:  1.0\u001b[0m\u001b[1G\u001b[K\u001b[A\u001b[1G\u001b[K\u001b[A\r",
            "[HMC] Sampling... 54%  ETA: 0:00:20\u001b[1m\u001b[34m\n",
            "  ϵ:  0.1\u001b[0m\u001b[1m\u001b[34m\n",
            "  α:  0.9660068317240635\u001b[0m\u001b[1G\u001b[K\u001b[A\u001b[1G\u001b[K\u001b[A\r",
            "[HMC] Sampling... 57%  ETA: 0:00:19\u001b[1m\u001b[34m\n",
            "  ϵ:  0.1\u001b[0m\u001b[1m\u001b[34m\n",
            "  α:  1.0\u001b[0m\u001b[1G\u001b[K\u001b[A\u001b[1G\u001b[K\u001b[A\r",
            "[HMC] Sampling... 60%  ETA: 0:00:18\u001b[1m\u001b[34m\n",
            "  ϵ:  0.1\u001b[0m\u001b[1m\u001b[34m\n",
            "  α:  0.9689345499126676\u001b[0m\u001b[1G\u001b[K\u001b[A\u001b[1G\u001b[K\u001b[A\r",
            "[HMC] Sampling... 63%  ETA: 0:00:16\u001b[1m\u001b[34m\n",
            "  ϵ:  0.1\u001b[0m\u001b[1m\u001b[34m\n",
            "  α:  0.9725662768146233\u001b[0m\u001b[1G\u001b[K\u001b[A\u001b[1G\u001b[K\u001b[A\r",
            "[HMC] Sampling... 66%  ETA: 0:00:15\u001b[1m\u001b[34m\n",
            "  ϵ:  0.1\u001b[0m\u001b[1m\u001b[34m\n",
            "  α:  0.954182725816993\u001b[0m\u001b[1G\u001b[K\u001b[A\u001b[1G\u001b[K\u001b[A\r",
            "[HMC] Sampling... 68%  ETA: 0:00:14\u001b[1m\u001b[34m\n",
            "  ϵ:  0.1\u001b[0m\u001b[1m\u001b[34m\n",
            "  α:  1.0\u001b[0m\u001b[1G\u001b[K\u001b[A\u001b[1G\u001b[K\u001b[A\r",
            "[HMC] Sampling... 71%  ETA: 0:00:13\u001b[1m\u001b[34m\n",
            "  ϵ:  0.1\u001b[0m\u001b[1m\u001b[34m\n",
            "  α:  1.0\u001b[0m\u001b[1G\u001b[K\u001b[A\u001b[1G\u001b[K\u001b[A\r",
            "[HMC] Sampling... 74%  ETA: 0:00:11\u001b[1m\u001b[34m\n",
            "  ϵ:  0.1\u001b[0m\u001b[1m\u001b[34m\n",
            "  α:  1.0\u001b[0m\u001b[1G\u001b[K\u001b[A\u001b[1G\u001b[K\u001b[A\r",
            "[HMC] Sampling... 76%  ETA: 0:00:10\u001b[1m\u001b[34m\n",
            "  ϵ:  0.1\u001b[0m\u001b[1m\u001b[34m\n",
            "  α:  0.7532884361691853\u001b[0m\u001b[1G\u001b[K\u001b[A\u001b[1G\u001b[K\u001b[A\r",
            "[HMC] Sampling... 79%  ETA: 0:00:09\u001b[1m\u001b[34m\n",
            "  ϵ:  0.1\u001b[0m\u001b[1m\u001b[34m\n",
            "  α:  1.0\u001b[0m\u001b[1G\u001b[K\u001b[A\u001b[1G\u001b[K\u001b[A\r",
            "[HMC] Sampling... 82%  ETA: 0:00:08\u001b[1m\u001b[34m\n",
            "  ϵ:  0.1\u001b[0m\u001b[1m\u001b[34m\n",
            "  α:  0.7682917600662239\u001b[0m\u001b[1G\u001b[K\u001b[A\u001b[1G\u001b[K\u001b[A\r",
            "[HMC] Sampling... 85%  ETA: 0:00:06\u001b[1m\u001b[34m\n",
            "  ϵ:  0.1\u001b[0m\u001b[1m\u001b[34m\n",
            "  α:  1.0\u001b[0m\u001b[1G\u001b[K\u001b[A\u001b[1G\u001b[K\u001b[A\r",
            "[HMC] Sampling... 88%  ETA: 0:00:05\u001b[1m\u001b[34m\n",
            "  ϵ:  0.1\u001b[0m\u001b[1m\u001b[34m\n",
            "  α:  0.9453880579938571\u001b[0m\u001b[1G\u001b[K\u001b[A\u001b[1G\u001b[K\u001b[A\r",
            "[HMC] Sampling... 90%  ETA: 0:00:04\u001b[1m\u001b[34m\n",
            "  ϵ:  0.1\u001b[0m\u001b[1m\u001b[34m\n",
            "  α:  0.8574889629923788\u001b[0m\u001b[1G\u001b[K\u001b[A\u001b[1G\u001b[K\u001b[A\r",
            "[HMC] Sampling... 93%  ETA: 0:00:03\u001b[1m\u001b[34m\n",
            "  ϵ:  0.1\u001b[0m\u001b[1m\u001b[34m\n",
            "  α:  0.9619373436237156\u001b[0m\u001b[1G\u001b[K\u001b[A\u001b[1G\u001b[K\u001b[A\r",
            "[HMC] Sampling... 96%  ETA: 0:00:02\u001b[1m\u001b[34m\n",
            "  ϵ:  0.1\u001b[0m\u001b[1m\u001b[34m\n",
            "  α:  0.9534405680897396\u001b[0m\u001b[1G\u001b[K\u001b[A\u001b[1G\u001b[K\u001b[A\r",
            "[HMC] Sampling... 98%  ETA: 0:00:01\u001b[1m\u001b[34m\n",
            "  ϵ:  0.1\u001b[0m\u001b[1m\u001b[34m\n",
            "  α:  0.9281535532169183\u001b[0m\u001b[1G\u001b[K\u001b[A\u001b[1G\u001b[K\u001b[A\r",
            "[HMC] Sampling...100% Time: 0:00:42\n"
          ]
        },
        {
          "output_type": "execute_result",
          "execution_count": 4,
          "data": {
            "text/plain": [
              "Object of type \"Turing.Chain\"\n",
              "\n",
              "Iterations = 1:250\n",
              "Thinning interval = 1\n",
              "Chains = 1\n",
              "Samples per chain = 250\n",
              "\n[0.118375 0.881625 … 0.671565 0.328435; 0.116266 0.883734 … 0.582399 0.417601; … ; 0.524472 0.475528 … 0.0459957 0.954004; 0.603701 0.396299 … 0.0445284 0.955472]"
            ]
          },
          "metadata": {}
        }
      ],
      "execution_count": 4,
      "metadata": {
        "collapsed": false,
        "outputHidden": true,
        "inputHidden": false
      }
    },
    {
      "cell_type": "code",
      "source": [
        "# Convert phi from array-of-array to matrix\n",
        "phiarr = mean(samples[:phi])\n",
        "phi = [phiarr[1]'; phiarr[2]']"
      ],
      "outputs": [
        {
          "output_type": "execute_result",
          "execution_count": 5,
          "data": {
            "text/plain": [
              "2×5 Array{Float64,2}:\n",
              " 0.132134  0.0904896  3.69149e-6  0.421433   0.355939   \n",
              " 0.208727  0.206974   0.513495    0.0706376  0.000166274"
            ]
          },
          "metadata": {}
        }
      ],
      "execution_count": 5,
      "metadata": {
        "collapsed": false,
        "outputHidden": true,
        "inputHidden": false
      }
    },
    {
      "cell_type": "code",
      "source": [
        "# Convert theta from array-of-array to matrix\n",
        "thetaarr = mean(samples[:theta])\n",
        "theta = reduce((a, b) -> cat(1, a, b'), Matrix{Float64}(0, 2), thetaarr)"
      ],
      "outputs": [
        {
          "output_type": "execute_result",
          "execution_count": 6,
          "data": {
            "text/plain": [
              "25×2 Array{Float64,2}:\n",
              " 0.37563   0.62437 \n",
              " 0.688316  0.311684\n",
              " 0.540454  0.459546\n",
              " 0.592479  0.407521\n",
              " 0.347451  0.652549\n",
              " 0.792279  0.207721\n",
              " 0.553344  0.446656\n",
              " 0.214449  0.785551\n",
              " 0.793985  0.206015\n",
              " 0.337101  0.662899\n",
              " 0.781692  0.218308\n",
              " 0.573008  0.426992\n",
              " 0.358833  0.641167\n",
              " 0.798589  0.201411\n",
              " 0.144629  0.855371\n",
              " 0.822587  0.177413\n",
              " 0.354986  0.645014\n",
              " 0.339862  0.660138\n",
              " 0.459212  0.540788\n",
              " 0.411284  0.588716\n",
              " 0.312996  0.687004\n",
              " 0.37578   0.62422 \n",
              " 0.624204  0.375796\n",
              " 0.463228  0.536772\n",
              " 0.462539  0.537461"
            ]
          },
          "metadata": {}
        }
      ],
      "execution_count": 6,
      "metadata": {
        "collapsed": false,
        "outputHidden": true,
        "inputHidden": false
      }
    },
    {
      "cell_type": "code",
      "source": [
        "# Build a vector storing lengths of docs for vis\n",
        "doclist = ldadata[\"doc\"]\n",
        "docldict = reduce((a, b) -> if haskey(a, b) a[b] += 1; a else a[b] = 1; a end, Dict(), doclist)\n",
        "docls = map(i -> docldict[i], 1:ldadata[\"M\"])"
      ],
      "outputs": [
        {
          "output_type": "execute_result",
          "execution_count": 7,
          "data": {
            "text/plain": [
              "25-element Array{Int64,1}:\n",
              " 10\n",
              " 11\n",
              " 17\n",
              " 14\n",
              " 11\n",
              "  7\n",
              "  5\n",
              " 16\n",
              "  7\n",
              " 16\n",
              "  6\n",
              "  4\n",
              "  9\n",
              " 11\n",
              " 11\n",
              " 10\n",
              "  9\n",
              " 10\n",
              "  9\n",
              "  9\n",
              " 10\n",
              "  8\n",
              " 10\n",
              " 21\n",
              " 11"
            ]
          },
          "metadata": {}
        }
      ],
      "execution_count": 7,
      "metadata": {
        "collapsed": false,
        "outputHidden": true,
        "inputHidden": false
      }
    },
    {
      "cell_type": "code",
      "source": [
        "# Build a vector of word frequencies for vis\n",
        "wordlist = ldadata[\"w\"]\n",
        "freqdict = reduce((a, b) -> if haskey(a, b) a[b] += 1; a else a[b] = 1; a end, Dict(), wordlist)\n",
        "freq = map(i -> freqdict[i], 1:ldadata[\"V\"])"
      ],
      "outputs": [
        {
          "output_type": "execute_result",
          "execution_count": 8,
          "data": {
            "text/plain": [
              "5-element Array{Int64,1}:\n",
              " 51\n",
              " 43\n",
              " 71\n",
              " 55\n",
              " 42"
            ]
          },
          "metadata": {}
        }
      ],
      "execution_count": 8,
      "metadata": {
        "collapsed": false,
        "outputHidden": true,
        "inputHidden": false
      }
    },
    {
      "cell_type": "code",
      "source": [
        "# Save result for vis\n",
        "ldaresult = Dict(\n",
        "    \"topic_term_dists\" => phi',\n",
        "    \"doc_topic_dist\" => theta',\n",
        "    \"doc_lengths\" => docls,\n",
        "    \"vocab\" => 1:ldadata[\"V\"],\n",
        "    \"term_frequency\" => freq\n",
        ")\n",
        "\n",
        "open(\"/home/kai/projects/Turing-exps/amazon-talk/LDA.result.json\", \"w\") do f\n",
        "    JSON.print(f, ldaresult)\n",
        "end"
      ],
      "outputs": [],
      "execution_count": 9,
      "metadata": {
        "collapsed": false,
        "outputHidden": false,
        "inputHidden": false
      }
    },
    {
      "cell_type": "code",
      "source": [],
      "outputs": [],
      "execution_count": null,
      "metadata": {
        "collapsed": false,
        "outputHidden": false,
        "inputHidden": false
      }
    }
  ],
  "metadata": {
    "kernelspec": {
      "name": "julia-0.5",
      "language": "julia",
      "display_name": "Julia 0.5.1"
    },
    "kernel_info": {
      "name": "julia-0.5"
    },
    "language_info": {
      "file_extension": ".jl",
      "name": "julia",
      "mimetype": "application/julia",
      "version": "0.5.1"
    }
  },
  "nbformat": 4,
  "nbformat_minor": 4
}