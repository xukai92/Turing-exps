{
  "cells": [
    {
      "cell_type": "code",
      "source": [
        "using Distributions\n",
        "using Turing"
      ],
      "outputs": [],
      "execution_count": 1,
      "metadata": {
        "collapsed": false
      }
    },
    {
      "cell_type": "code",
      "source": [
        "y = [ 1.0, 1.0, 1.0, 1.0, 2.0, 2.0, 2.0, 3.0, 3.0, 3.0, 2.0, 2.0, 2.0, 1.0, 1.0 ];\n",
        "N = length(y);  K = 3;"
      ],
      "outputs": [],
      "execution_count": 2,
      "metadata": {
        "collapsed": false
      }
    },
    {
      "cell_type": "code",
      "source": [
        "@model BayesHmm(y) = begin\n",
        "    s = tzeros(Int64, N)\n",
        "    m = tzeros(Real, K)\n",
        "    T = Array{Array}(K)\n",
        "    for i = 1:K\n",
        "        T[i] ~ Dirichlet(ones(K)/K)\n",
        "        # m[i] ~ Normal(1, 0.1) # Defining m this way causes label-switching problem.\n",
        "        m[i] ~ Normal(i, 0.01)\n",
        "    end\n",
        "    s[1] ~ Categorical(ones(Float64, K)/K)\n",
        "    for i = 2:N\n",
        "        s[i] ~ Categorical(vec(T[s[i-1]]))\n",
        "        y[i] ~ Normal(m[s[i]], 0.01)\n",
        "    end\n",
        "end"
      ],
      "outputs": [],
      "execution_count": 3,
      "metadata": {
        "collapsed": false
      }
    },
    {
      "cell_type": "code",
      "source": [
        "g = Gibbs(300, HMC(1, 0.2, 5, :m, :T), PG(50, 1, :s))\n",
        "c = sample(BayesHmm(y), g);"
      ],
      "outputs": [],
      "execution_count": 4,
      "metadata": {
        "collapsed": false
      }
    },
    {
      "cell_type": "code",
      "source": [
        "describe(c)"
      ],
      "outputs": [],
      "execution_count": null,
      "metadata": {
        "collapsed": false
      }
    },
    {
      "cell_type": "code",
      "source": [
        "using PyCall\n",
        "using PyPlot\n",
        "\n",
        "m = c[:m][111];\n",
        "s = c[:s][111];\n",
        "\n",
        "PyPlot.plot(y, linestyle=\"None\", marker=\"+\", color = \"r\")\n",
        "PyPlot.plot(m[s], linestyle=\"-\", marker=\"*\", color = \"b\")"
      ],
      "outputs": [],
      "execution_count": null,
      "metadata": {
        "collapsed": false
      }
    },
    {
      "cell_type": "code",
      "source": [],
      "outputs": [],
      "execution_count": null,
      "metadata": {
        "collapsed": false,
        "outputHidden": false,
        "inputHidden": false
      }
    }
  ],
  "metadata": {
    "anaconda-cloud": {},
    "kernel_info": {
      "name": "julia-0.5"
    },
    "kernelspec": {
      "name": "julia-0.5",
      "language": "julia",
      "display_name": "Julia 0.5.1"
    },
    "language_info": {
      "file_extension": ".jl",
      "name": "julia",
      "mimetype": "application/julia",
      "version": "0.5.1"
    }
  },
  "nbformat": 4,
  "nbformat_minor": 1
}